{
 "cells": [
  {
   "cell_type": "code",
   "execution_count": 1,
   "id": "9ce4e30b",
   "metadata": {
    "_cell_guid": "b1076dfc-b9ad-4769-8c92-a6c4dae69d19",
    "_uuid": "8f2839f25d086af736a60e9eeb907d3b93b6e0e5",
    "execution": {
     "iopub.execute_input": "2022-10-20T20:13:09.722675Z",
     "iopub.status.busy": "2022-10-20T20:13:09.722206Z",
     "iopub.status.idle": "2022-10-20T20:13:11.315691Z",
     "shell.execute_reply": "2022-10-20T20:13:11.314478Z"
    },
    "papermill": {
     "duration": 1.601942,
     "end_time": "2022-10-20T20:13:11.318662",
     "exception": false,
     "start_time": "2022-10-20T20:13:09.716720",
     "status": "completed"
    },
    "tags": []
   },
   "outputs": [
    {
     "name": "stdout",
     "output_type": "stream",
     "text": [
      "/kaggle/input/titanic/train.csv\n",
      "/kaggle/input/titanic/test.csv\n",
      "/kaggle/input/titanic/gender_submission.csv\n"
     ]
    }
   ],
   "source": [
    "import numpy as np\n",
    "import pandas as pd\n",
    "import statsmodels.api as sm\n",
    "\n",
    "import os\n",
    "for dirname, _, filenames in os.walk('/kaggle/input'):\n",
    "    for filename in filenames:\n",
    "        print(os.path.join(dirname, filename))\n",
    "\n"
   ]
  },
  {
   "cell_type": "code",
   "execution_count": 2,
   "id": "c070beb0",
   "metadata": {
    "execution": {
     "iopub.execute_input": "2022-10-20T20:13:11.326013Z",
     "iopub.status.busy": "2022-10-20T20:13:11.325611Z",
     "iopub.status.idle": "2022-10-20T20:13:11.376641Z",
     "shell.execute_reply": "2022-10-20T20:13:11.375425Z"
    },
    "papermill": {
     "duration": 0.057205,
     "end_time": "2022-10-20T20:13:11.378956",
     "exception": false,
     "start_time": "2022-10-20T20:13:11.321751",
     "status": "completed"
    },
    "tags": []
   },
   "outputs": [
    {
     "data": {
      "text/html": [
       "<div>\n",
       "<style scoped>\n",
       "    .dataframe tbody tr th:only-of-type {\n",
       "        vertical-align: middle;\n",
       "    }\n",
       "\n",
       "    .dataframe tbody tr th {\n",
       "        vertical-align: top;\n",
       "    }\n",
       "\n",
       "    .dataframe thead th {\n",
       "        text-align: right;\n",
       "    }\n",
       "</style>\n",
       "<table border=\"1\" class=\"dataframe\">\n",
       "  <thead>\n",
       "    <tr style=\"text-align: right;\">\n",
       "      <th></th>\n",
       "      <th>PassengerId</th>\n",
       "      <th>Survived</th>\n",
       "      <th>Pclass</th>\n",
       "      <th>Name</th>\n",
       "      <th>Sex</th>\n",
       "      <th>Age</th>\n",
       "      <th>SibSp</th>\n",
       "      <th>Parch</th>\n",
       "      <th>Ticket</th>\n",
       "      <th>Fare</th>\n",
       "      <th>Cabin</th>\n",
       "      <th>Embarked</th>\n",
       "    </tr>\n",
       "  </thead>\n",
       "  <tbody>\n",
       "    <tr>\n",
       "      <th>0</th>\n",
       "      <td>1</td>\n",
       "      <td>0</td>\n",
       "      <td>3</td>\n",
       "      <td>Braund, Mr. Owen Harris</td>\n",
       "      <td>male</td>\n",
       "      <td>22.0</td>\n",
       "      <td>1</td>\n",
       "      <td>0</td>\n",
       "      <td>A/5 21171</td>\n",
       "      <td>7.2500</td>\n",
       "      <td>NaN</td>\n",
       "      <td>S</td>\n",
       "    </tr>\n",
       "    <tr>\n",
       "      <th>1</th>\n",
       "      <td>2</td>\n",
       "      <td>1</td>\n",
       "      <td>1</td>\n",
       "      <td>Cumings, Mrs. John Bradley (Florence Briggs Th...</td>\n",
       "      <td>female</td>\n",
       "      <td>38.0</td>\n",
       "      <td>1</td>\n",
       "      <td>0</td>\n",
       "      <td>PC 17599</td>\n",
       "      <td>71.2833</td>\n",
       "      <td>C85</td>\n",
       "      <td>C</td>\n",
       "    </tr>\n",
       "    <tr>\n",
       "      <th>2</th>\n",
       "      <td>3</td>\n",
       "      <td>1</td>\n",
       "      <td>3</td>\n",
       "      <td>Heikkinen, Miss. Laina</td>\n",
       "      <td>female</td>\n",
       "      <td>26.0</td>\n",
       "      <td>0</td>\n",
       "      <td>0</td>\n",
       "      <td>STON/O2. 3101282</td>\n",
       "      <td>7.9250</td>\n",
       "      <td>NaN</td>\n",
       "      <td>S</td>\n",
       "    </tr>\n",
       "    <tr>\n",
       "      <th>3</th>\n",
       "      <td>4</td>\n",
       "      <td>1</td>\n",
       "      <td>1</td>\n",
       "      <td>Futrelle, Mrs. Jacques Heath (Lily May Peel)</td>\n",
       "      <td>female</td>\n",
       "      <td>35.0</td>\n",
       "      <td>1</td>\n",
       "      <td>0</td>\n",
       "      <td>113803</td>\n",
       "      <td>53.1000</td>\n",
       "      <td>C123</td>\n",
       "      <td>S</td>\n",
       "    </tr>\n",
       "    <tr>\n",
       "      <th>4</th>\n",
       "      <td>5</td>\n",
       "      <td>0</td>\n",
       "      <td>3</td>\n",
       "      <td>Allen, Mr. William Henry</td>\n",
       "      <td>male</td>\n",
       "      <td>35.0</td>\n",
       "      <td>0</td>\n",
       "      <td>0</td>\n",
       "      <td>373450</td>\n",
       "      <td>8.0500</td>\n",
       "      <td>NaN</td>\n",
       "      <td>S</td>\n",
       "    </tr>\n",
       "  </tbody>\n",
       "</table>\n",
       "</div>"
      ],
      "text/plain": [
       "   PassengerId  Survived  Pclass  \\\n",
       "0            1         0       3   \n",
       "1            2         1       1   \n",
       "2            3         1       3   \n",
       "3            4         1       1   \n",
       "4            5         0       3   \n",
       "\n",
       "                                                Name     Sex   Age  SibSp  \\\n",
       "0                            Braund, Mr. Owen Harris    male  22.0      1   \n",
       "1  Cumings, Mrs. John Bradley (Florence Briggs Th...  female  38.0      1   \n",
       "2                             Heikkinen, Miss. Laina  female  26.0      0   \n",
       "3       Futrelle, Mrs. Jacques Heath (Lily May Peel)  female  35.0      1   \n",
       "4                           Allen, Mr. William Henry    male  35.0      0   \n",
       "\n",
       "   Parch            Ticket     Fare Cabin Embarked  \n",
       "0      0         A/5 21171   7.2500   NaN        S  \n",
       "1      0          PC 17599  71.2833   C85        C  \n",
       "2      0  STON/O2. 3101282   7.9250   NaN        S  \n",
       "3      0            113803  53.1000  C123        S  \n",
       "4      0            373450   8.0500   NaN        S  "
      ]
     },
     "execution_count": 2,
     "metadata": {},
     "output_type": "execute_result"
    }
   ],
   "source": [
    "train = pd.read_csv(\"/kaggle/input/titanic/train.csv\")\n",
    "test = pd.read_csv(\"/kaggle/input/titanic/test.csv\")\n",
    "survived = pd.read_csv(\"/kaggle/input/titanic/gender_submission.csv\")\n",
    "train.head()"
   ]
  },
  {
   "cell_type": "markdown",
   "id": "81fb645b",
   "metadata": {
    "papermill": {
     "duration": 0.002627,
     "end_time": "2022-10-20T20:13:11.384707",
     "exception": false,
     "start_time": "2022-10-20T20:13:11.382080",
     "status": "completed"
    },
    "tags": []
   },
   "source": []
  },
  {
   "cell_type": "code",
   "execution_count": 3,
   "id": "90190079",
   "metadata": {
    "execution": {
     "iopub.execute_input": "2022-10-20T20:13:11.392377Z",
     "iopub.status.busy": "2022-10-20T20:13:11.391862Z",
     "iopub.status.idle": "2022-10-20T20:13:11.451607Z",
     "shell.execute_reply": "2022-10-20T20:13:11.450365Z"
    },
    "papermill": {
     "duration": 0.068946,
     "end_time": "2022-10-20T20:13:11.456434",
     "exception": false,
     "start_time": "2022-10-20T20:13:11.387488",
     "status": "completed"
    },
    "tags": []
   },
   "outputs": [
    {
     "name": "stdout",
     "output_type": "stream",
     "text": [
      "Optimization terminated successfully.\n",
      "         Current function value: 0.609424\n",
      "         Iterations 5\n",
      "                           Logit Regression Results                           \n",
      "==============================================================================\n",
      "Dep. Variable:               Survived   No. Observations:                  891\n",
      "Model:                          Logit   Df Residuals:                      889\n",
      "Method:                           MLE   Df Model:                            1\n",
      "Date:                Thu, 20 Oct 2022   Pseudo R-squ.:                 0.08483\n",
      "Time:                        20:13:11   Log-Likelihood:                -543.00\n",
      "converged:                       True   LL-Null:                       -593.33\n",
      "Covariance Type:            nonrobust   LLR p-value:                 1.091e-23\n",
      "==============================================================================\n",
      "                 coef    std err          z      P>|z|      [0.025      0.975]\n",
      "------------------------------------------------------------------------------\n",
      "Pclass        -0.3786      0.034    -11.184      0.000      -0.445      -0.312\n",
      "Fare           0.0107      0.002      5.960      0.000       0.007       0.014\n",
      "==============================================================================\n"
     ]
    }
   ],
   "source": [
    "#prep initial data for first model (all numeric columns with no nulls)\n",
    "x_train = train[['Pclass','Fare']]\n",
    "y_train = train[['Survived']]\n",
    "x_test = test[['Pclass','Fare']]\n",
    "\n",
    "#create logistic model\n",
    "model_log = sm.Logit(y_train, x_train).fit()\n",
    "print(model_log.summary())"
   ]
  },
  {
   "cell_type": "code",
   "execution_count": 4,
   "id": "c5376aaf",
   "metadata": {
    "execution": {
     "iopub.execute_input": "2022-10-20T20:13:11.473012Z",
     "iopub.status.busy": "2022-10-20T20:13:11.472452Z",
     "iopub.status.idle": "2022-10-20T20:13:11.506107Z",
     "shell.execute_reply": "2022-10-20T20:13:11.504466Z"
    },
    "papermill": {
     "duration": 0.045811,
     "end_time": "2022-10-20T20:13:11.509433",
     "exception": false,
     "start_time": "2022-10-20T20:13:11.463622",
     "status": "completed"
    },
    "tags": []
   },
   "outputs": [
    {
     "data": {
      "text/plain": [
       "True     268\n",
       "False    150\n",
       "Name: Accuracy, dtype: int64"
      ]
     },
     "execution_count": 4,
     "metadata": {},
     "output_type": "execute_result"
    }
   ],
   "source": [
    "#get results and calculate accuracy\n",
    "\n",
    "results = pd.DataFrame()\n",
    "results[\"Prediction\"] = model_log.predict(x_test).round()\n",
    "results = pd.concat([results[\"Prediction\"],survived[\"Survived\"]], axis=1)\n",
    "results[\"Accuracy\"] = results.apply(lambda x: True if x['Prediction'] == x['Survived']  else False, axis=1)\n",
    "results[\"Accuracy\"].value_counts()"
   ]
  },
  {
   "cell_type": "code",
   "execution_count": 5,
   "id": "1654eef9",
   "metadata": {
    "execution": {
     "iopub.execute_input": "2022-10-20T20:13:11.522304Z",
     "iopub.status.busy": "2022-10-20T20:13:11.520228Z",
     "iopub.status.idle": "2022-10-20T20:13:11.533332Z",
     "shell.execute_reply": "2022-10-20T20:13:11.532132Z"
    },
    "papermill": {
     "duration": 0.023844,
     "end_time": "2022-10-20T20:13:11.537523",
     "exception": false,
     "start_time": "2022-10-20T20:13:11.513679",
     "status": "completed"
    },
    "tags": []
   },
   "outputs": [
    {
     "name": "stdout",
     "output_type": "stream",
     "text": [
      "Accuracy:  0.6411483253588517\n"
     ]
    }
   ],
   "source": [
    "acc = len(results[results[\"Accuracy\"]==True])/len(results)\n",
    "print(\"Accuracy: \", acc)"
   ]
  },
  {
   "cell_type": "markdown",
   "id": "aee4b847",
   "metadata": {
    "papermill": {
     "duration": 0.002996,
     "end_time": "2022-10-20T20:13:11.544802",
     "exception": false,
     "start_time": "2022-10-20T20:13:11.541806",
     "status": "completed"
    },
    "tags": []
   },
   "source": [
    "## Varaible transformation"
   ]
  }
 ],
 "metadata": {
  "kernelspec": {
   "display_name": "Python 3",
   "language": "python",
   "name": "python3"
  },
  "language_info": {
   "codemirror_mode": {
    "name": "ipython",
    "version": 3
   },
   "file_extension": ".py",
   "mimetype": "text/x-python",
   "name": "python",
   "nbconvert_exporter": "python",
   "pygments_lexer": "ipython3",
   "version": "3.7.12"
  },
  "papermill": {
   "default_parameters": {},
   "duration": 10.922374,
   "end_time": "2022-10-20T20:13:12.369691",
   "environment_variables": {},
   "exception": null,
   "input_path": "__notebook__.ipynb",
   "output_path": "__notebook__.ipynb",
   "parameters": {},
   "start_time": "2022-10-20T20:13:01.447317",
   "version": "2.3.4"
  }
 },
 "nbformat": 4,
 "nbformat_minor": 5
}
